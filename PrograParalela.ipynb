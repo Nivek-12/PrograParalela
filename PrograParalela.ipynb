{
  "nbformat": 4,
  "nbformat_minor": 0,
  "metadata": {
    "colab": {
      "provenance": [],
      "authorship_tag": "ABX9TyMtWki3VrAyVBwQvF/rwO3B",
      "include_colab_link": true
    },
    "kernelspec": {
      "name": "python3",
      "display_name": "Python 3"
    },
    "language_info": {
      "name": "python"
    }
  },
  "cells": [
    {
      "cell_type": "markdown",
      "metadata": {
        "id": "view-in-github",
        "colab_type": "text"
      },
      "source": [
        "<a href=\"https://colab.research.google.com/github/Nivek-12/PrograParalela/blob/main/PrograParalela.ipynb\" target=\"_parent\"><img src=\"https://colab.research.google.com/assets/colab-badge.svg\" alt=\"Open In Colab\"/></a>"
      ]
    },
    {
      "cell_type": "code",
      "execution_count": 3,
      "metadata": {
        "id": "5UEewaBzgcbE"
      },
      "outputs": [],
      "source": [
        "import threading\n",
        "import random\n",
        "import time"
      ]
    },
    {
      "cell_type": "code",
      "source": [
        "def ordena_subvector(subvector,hilo):\n",
        "  tiempo_inicio = time.time()\n",
        "  subvector.sort()\n",
        "  print(subvector)\n",
        "  tiempo_fin = time.time()\n",
        "  tiempo_ejecucion = tiempo_fin - tiempo_inicio\n",
        "  print(f\"Hilo {hilo}: Subvector ordenado (Tiempo: {tiempo_ejecucion} segundos)\")"
      ],
      "metadata": {
        "id": "2WYr4E6Dgf84"
      },
      "execution_count": 4,
      "outputs": []
    },
    {
      "cell_type": "code",
      "source": [
        "def dividir_vector(vector,num_hilos):\n",
        "  longitud_subvector = len(vector) // num_hilos\n",
        "  subvectores = [vector[i:i+longitud_subvector] for i in range(0,len(vector),longitud_subvector)]\n",
        "  return subvectores"
      ],
      "metadata": {
        "id": "c3kVYw3Xhx6H"
      },
      "execution_count": 5,
      "outputs": []
    },
    {
      "cell_type": "code",
      "source": [
        "def unir_vectores(subvectores):\n",
        "  vector_ordenado = [num for subvector in subvectores for num in subvector]\n",
        "  return vector_ordenado"
      ],
      "metadata": {
        "id": "Kj8Be6ydiXMG"
      },
      "execution_count": 6,
      "outputs": []
    },
    {
      "cell_type": "code",
      "source": [
        "def ordenar_vector(vector,num_hilos):\n",
        "  subvectores = dividir_vector(vector,num_hilos)\n",
        "  threads = []\n",
        "  for i, subvector in enumerate(subvectores):\n",
        "    thread = threading.Thread(target=ordena_subvector,args=(subvector,i))\n",
        "    thread.start()\n",
        "    threads.append(thread)\n",
        "  for thread in threads:\n",
        "    thread.join()\n",
        "  vector_ordenado = unir_vectores(subvectores)\n",
        "  vector_ordenado.sort()\n",
        "  print(f\"Vector ordenado final: {vector_ordenado}\")"
      ],
      "metadata": {
        "id": "PleXWVIViwfh"
      },
      "execution_count": 8,
      "outputs": []
    },
    {
      "cell_type": "code",
      "source": [
        "vector_grande = [random.randint(1,100) for _ in range(100)]\n",
        "num_hilos = int(input(\"Ingrese la cantidad de hilos: \"))\n",
        "ordenar_vector(vector=vector_grande,num_hilos=num_hilos)"
      ],
      "metadata": {
        "colab": {
          "base_uri": "https://localhost:8080/"
        },
        "id": "iHNgVMGKj2hE",
        "outputId": "7f40f9d7-e647-40e1-953d-5f9268e409f3"
      },
      "execution_count": 37,
      "outputs": [
        {
          "output_type": "stream",
          "name": "stdout",
          "text": [
            "Ingrese la cantidad de hilos: 10\n",
            "[7, 10, 26, 34, 60, 61, 61, 72, 88, 95][2, 21, 22, 23, 36, 37, 37, 39, 70, 81]\n",
            "Hilo 1: Subvector ordenado (Tiempo: 0.001285552978515625 segundos)\n",
            "[4, 6, 11, 15, 32, 35, 45, 70, 73, 87]\n",
            "Hilo 0: Subvector ordenado (Tiempo: 0.004088878631591797 segundos)\n",
            "\n",
            "Hilo 2: Subvector ordenado (Tiempo: 0.0019283294677734375 segundos)\n",
            "[3, 10, 15, 31, 40, 61, 69, 72, 74, 76]\n",
            "Hilo 3: Subvector ordenado (Tiempo: 0.00018072128295898438 segundos)\n",
            "[3, 22, 38, 40, 41, 45, 56, 70, 83, 93]\n",
            "Hilo 4: Subvector ordenado (Tiempo: 0.00028514862060546875 segundos)\n",
            "[32, 35, 47, 47, 53, 56, 59, 63, 72, 80]\n",
            "Hilo 5: Subvector ordenado (Tiempo: 0.0006005764007568359 segundos)\n",
            "[16, 18, 35, 39, 54, 54, 64, 77, 93, 95]\n",
            "Hilo 6: Subvector ordenado (Tiempo: 0.0001590251922607422 segundos)\n",
            "[2, 8, 9, 18, 30, 31, 38, 43, 55, 91][4, 9, 13, 33, 35, 60, 62, 78, 92, 98]\n",
            "Hilo 8: Subvector ordenado (Tiempo: 0.0005445480346679688 segundos)\n",
            "Hilo 7: Subvector ordenado (Tiempo: 0.0015430450439453125 segundos)\n",
            "[4, 10, 21, 47, 75, 82, 82, 93, 93, 95]\n",
            "Hilo 9: Subvector ordenado (Tiempo: 0.00017499923706054688 segundos)\n",
            "\n",
            "Vector ordenado final: [2, 2, 3, 3, 4, 4, 4, 6, 7, 8, 9, 9, 10, 10, 10, 11, 13, 15, 15, 16, 18, 18, 21, 21, 22, 22, 23, 26, 30, 31, 31, 32, 32, 33, 34, 35, 35, 35, 35, 36, 37, 37, 38, 38, 39, 39, 40, 40, 41, 43, 45, 45, 47, 47, 47, 53, 54, 54, 55, 56, 56, 59, 60, 60, 61, 61, 61, 62, 63, 64, 69, 70, 70, 70, 72, 72, 72, 73, 74, 75, 76, 77, 78, 80, 81, 82, 82, 83, 87, 88, 91, 92, 93, 93, 93, 93, 95, 95, 95, 98]\n"
          ]
        }
      ]
    }
  ]
}